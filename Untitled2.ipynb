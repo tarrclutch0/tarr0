{
  "nbformat": 4,
  "nbformat_minor": 0,
  "metadata": {
    "colab": {
      "provenance": [],
      "authorship_tag": "ABX9TyMxVIcijIAQbV7hfuRDlQcd",
      "include_colab_link": true
    },
    "kernelspec": {
      "name": "python3",
      "display_name": "Python 3"
    },
    "language_info": {
      "name": "python"
    }
  },
  "cells": [
    {
      "cell_type": "markdown",
      "metadata": {
        "id": "view-in-github",
        "colab_type": "text"
      },
      "source": [
        "<a href=\"https://colab.research.google.com/github/tarrclutch0/tarr0/blob/tarrclutch0-patch-1/Untitled2.ipynb\" target=\"_parent\"><img src=\"https://colab.research.google.com/assets/colab-badge.svg\" alt=\"Open In Colab\"/></a>"
      ]
    },
    {
      "cell_type": "code",
      "execution_count": 8,
      "metadata": {
        "colab": {
          "base_uri": "https://localhost:8080/"
        },
        "id": "OnDN4cARpyWF",
        "outputId": "d85646b1-1de3-4187-c69e-251f19cd014e"
      },
      "outputs": [
        {
          "output_type": "stream",
          "name": "stdout",
          "text": [
            "Hello, world!\n",
            "mutarr\n"
          ]
        }
      ],
      "source": [
        "hello = \"Hello, world!\"\n",
        "tarr = \"mutarr\"\n",
        "\n",
        "print(hello)\n",
        "print(tarr)\n",
        "\n",
        "\n"
      ]
    }
  ]
}